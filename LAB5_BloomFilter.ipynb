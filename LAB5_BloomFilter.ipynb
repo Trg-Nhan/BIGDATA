{
 "cells": [
  {
   "cell_type": "code",
   "execution_count": 79,
   "id": "9ddfb4f3-5ab4-476d-895b-f44dda744347",
   "metadata": {},
   "outputs": [],
   "source": [
    "from bloom_filter  import BloomFilter"
   ]
  },
  {
   "cell_type": "code",
   "execution_count": 80,
   "id": "11978973-9597-46da-8c16-3724c42b9bab",
   "metadata": {},
   "outputs": [],
   "source": [
    "'/home/nhan/vanbanwordcount.txt'==\"bloom.txt\"\n",
    "with open('/home/nhan/vanbanwordcount.txt', 'r') as file:\n",
    "    text = file.read()"
   ]
  },
  {
   "cell_type": "code",
   "execution_count": 81,
   "id": "aceb8714-3e4c-48da-9efb-2630c3470c83",
   "metadata": {},
   "outputs": [],
   "source": [
    "bloom_filter = BloomFilter(max_elements=10000, error_rate=0.1)"
   ]
  },
  {
   "cell_type": "code",
   "execution_count": 82,
   "id": "07908341-e3e5-47ff-9472-ef2fe7cf0641",
   "metadata": {},
   "outputs": [],
   "source": [
    "bloom_filter.add('Nhan')"
   ]
  },
  {
   "cell_type": "code",
   "execution_count": 85,
   "id": "efb7f6b0-4e22-4f2a-8846-eed73f9623d0",
   "metadata": {},
   "outputs": [],
   "source": [
    "words_to_check = [\"and\", \"happy\", \"love\", \"Loo\", \"in\",\"Nhan\"]"
   ]
  },
  {
   "cell_type": "code",
   "execution_count": 86,
   "id": "4c53d414-2fe0-4a8e-b548-1c66c09b6af9",
   "metadata": {},
   "outputs": [
    {
     "name": "stdout",
     "output_type": "stream",
     "text": [
      "Từ 'and' Không có xuất hiện trong văn bản.\n",
      "Từ 'happy' Không có xuất hiện trong văn bản.\n",
      "Từ 'love' Không có xuất hiện trong văn bản.\n",
      "Từ 'Loo' Không có xuất hiện trong văn bản.\n",
      "Từ 'in' Không có xuất hiện trong văn bản.\n",
      "Từ 'Nhan' Có xuất hiện văn bản.\n"
     ]
    }
   ],
   "source": [
    "for check in words_to_check:\n",
    "    if check in bloom_filter:\n",
    "        print(f\"Từ '{check}' Có xuất hiện văn bản.\")\n",
    "    else:\n",
    "        print(f\"Từ '{check}' Không có xuất hiện trong văn bản.\")"
   ]
  },
  {
   "cell_type": "code",
   "execution_count": null,
   "id": "639d3a75-b2ff-4742-b510-af7a5c05ea01",
   "metadata": {},
   "outputs": [],
   "source": []
  },
  {
   "cell_type": "code",
   "execution_count": null,
   "id": "b8021fe2-c9e1-4aa4-981f-c9ef0c19854c",
   "metadata": {},
   "outputs": [],
   "source": []
  }
 ],
 "metadata": {
  "kernelspec": {
   "display_name": "Python 3 (ipykernel)",
   "language": "python",
   "name": "python3"
  },
  "language_info": {
   "codemirror_mode": {
    "name": "ipython",
    "version": 3
   },
   "file_extension": ".py",
   "mimetype": "text/x-python",
   "name": "python",
   "nbconvert_exporter": "python",
   "pygments_lexer": "ipython3",
   "version": "3.10.12"
  }
 },
 "nbformat": 4,
 "nbformat_minor": 5
}
