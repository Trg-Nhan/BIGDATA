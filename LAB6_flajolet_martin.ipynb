{
 "cells": [
  {
   "cell_type": "code",
   "execution_count": 4,
   "metadata": {},
   "outputs": [
    {
     "name": "stdout",
     "output_type": "stream",
     "text": [
      "Số tên của các phần tử riêng biệt là: 4\n"
     ]
    }
   ],
   "source": [
    "import hashlib\n",
    "\n",
    "def flajolet_martin(data):\n",
    "    max_rightmost_zero_bit_position = -1\n",
    "    \n",
    "    for element in data:\n",
    "        # Tính giá trị hash của phần tử\n",
    "        hash_value = hashlib.md5(element.encode()).hexdigest()\n",
    "        \n",
    "        # Tính vị trí bit 0 cuối cùng\n",
    "        rightmost_zero_bit_position = len(hash_value) - len(hash_value.rstrip('0'))\n",
    "        \n",
    "        # Cập nhật vị trí bit 0 cuối cùng lớn nhất\n",
    "        if rightmost_zero_bit_position > max_rightmost_zero_bit_position:\n",
    "            max_rightmost_zero_bit_position = rightmost_zero_bit_position\n",
    "    \n",
    "    # Tính ước lượng số phần tử riêng biệt\n",
    "    estimated_number_of_distinct_elements = 2 ** max_rightmost_zero_bit_position\n",
    "    \n",
    "    return estimated_number_of_distinct_elements\n",
    "\n",
    "data = \"How Blockchain Works When a block stores new data it is added to the blockchain. Blockchain, as its name suggests, consists of multiple blocks strung together. In order for a block to be added to the blockchain, however, four things must happen A transaction must occur. Let’s continue with the example of your impulsive Amazon purchase. After hastily clicking through multiple checkout prompt, you go against your better judgment and make a purchase. As we discussed above, in many cases a block will group together potentially thousands of transactions, so your Amazon purchase will be packaged in the block along with other users' transaction information as well. That transaction must be verified. After making that purchase, your transaction must be verified. With other public records of information, like the Securities Exchange Commission, Wikipedia, or your local library, there’s someone in charge of vetting new data entries. With blockchain, however, that job is left up to a network of computers. When you make your purchase from Amazon, that network of computers rushes to check that your transaction happened in the way you said it did. That is, they confirm the details of the purchase, including the transaction’s time, dollar amount, and participants. (More on how this happens in a second.) That transaction must be stored in a block. After your transaction has been verified as accurate, it gets the green light. The transaction’s dollar amount, your digital signature, and Amazon’s digital signature are all stored in a block. There, the transaction will likely join hundreds, or thousands, of others like it. That block must be given a hash. Not unlike an angel earning its wings, once all of a block’s transactions have been verified, it must be given a unique, identifying code called a hash. The block is also given the hash of the most recent block added to the blockchain. Once hashed, the block can be added to the blockchain. When that new block is added to the blockchain, it becomes publicly available for anyone to view—even you. If you take a look at Bitcoin’s blockchain, you will see that you have access to transaction data, along with information about when (“Time”), where (“Height”), and by who (“Relayed By”) the block was added to the blockchain.\"\n",
    "\n",
    "# Chia dữ liệu thành các phần tử riêng biệt\n",
    "elements = data.split()\n",
    "\n",
    "# Đếm số tên của các phần tử riêng biệt\n",
    "count = flajolet_martin(elements)\n",
    "\n",
    "print(\"Số lượng các phần tử riêng biệt là:\", count)"
   ]
  }
 ],
 "metadata": {
  "kernelspec": {
   "display_name": "Python 3",
   "language": "python",
   "name": "python3"
  },
  "language_info": {
   "codemirror_mode": {
    "name": "ipython",
    "version": 3
   },
   "file_extension": ".py",
   "mimetype": "text/x-python",
   "name": "python",
   "nbconvert_exporter": "python",
   "pygments_lexer": "ipython3",
   "version": "3.12.0"
  }
 },
 "nbformat": 4,
 "nbformat_minor": 2
}
